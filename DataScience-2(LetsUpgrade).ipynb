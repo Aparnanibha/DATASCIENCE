{
 "cells": [
  {
   "cell_type": "markdown",
   "metadata": {},
   "source": [
    "# Assignment -2"
   ]
  },
  {
   "cell_type": "raw",
   "metadata": {},
   "source": [
    "Question-1"
   ]
  },
  {
   "cell_type": "code",
   "execution_count": 26,
   "metadata": {},
   "outputs": [],
   "source": [
    "#1 Create an empty list. Accept 10 numbers from the user and append to it the list if it is an even number."
   ]
  },
  {
   "cell_type": "code",
   "execution_count": 27,
   "metadata": {},
   "outputs": [
    {
     "name": "stdout",
     "output_type": "stream",
     "text": [
      "[1, 2, 3, 4, 5, 6, 7, 8, 9, 10]\n",
      "[2, 4, 6, 8, 10]\n"
     ]
    }
   ],
   "source": [
    "lst =[]\n",
    "even = []\n",
    "for i in range(1,11):\n",
    "    lst.append(i)\n",
    "print(lst)\n",
    "for j in lst:\n",
    "    if(j%2==0):\n",
    "        even.append(j)\n",
    "print(even)"
   ]
  },
  {
   "cell_type": "raw",
   "metadata": {},
   "source": [
    "Question - 2"
   ]
  },
  {
   "cell_type": "code",
   "execution_count": 28,
   "metadata": {},
   "outputs": [],
   "source": [
    "#2 Create a notebook on LIST COMPREHENSION. This exercise is to put you in a Self learning mode"
   ]
  },
  {
   "cell_type": "raw",
   "metadata": {},
   "source": [
    "Question - 3    "
   ]
  },
  {
   "cell_type": "code",
   "execution_count": 29,
   "metadata": {},
   "outputs": [],
   "source": [
    "#3 You have seen in the videos how powerful dictionary data structure is.\n",
    "# In this assignment, given a number n, you have to write a program that generates a dictionary d which\n",
    "# contains (i, i*i), where i is from 1 to n (both included).\n",
    "# Then you have to just print this dictionary d.\n",
    "# Example:\n",
    "# Input: 4\n",
    "# will give output as\n",
    "# {1: 1, 2: 4, 3: 9, 4: 16}\n",
    "# Input Format:\n",
    "# Take the number n in a single line.\n",
    "# Output Format:\n",
    "# Print the dictionary d in a single line."
   ]
  },
  {
   "cell_type": "code",
   "execution_count": 30,
   "metadata": {},
   "outputs": [
    {
     "name": "stdout",
     "output_type": "stream",
     "text": [
      "Enter a number:4\n",
      "{1: 1, 2: 4, 3: 9, 4: 16}\n"
     ]
    }
   ],
   "source": [
    "d = {}\n",
    "n = int(input(\"Enter a number:\"))\n",
    "for i in range(1,n+1):\n",
    "    d.update({i:i*i})\n",
    "print(d)"
   ]
  },
  {
   "cell_type": "raw",
   "metadata": {},
   "source": [
    "Question - 4"
   ]
  },
  {
   "cell_type": "code",
   "execution_count": 31,
   "metadata": {},
   "outputs": [],
   "source": [
    "#4 There is a robot which wants to go the charging point to charge itself.\n",
    "# The robot moves in a 2-D plane from the original point (0,0). The robot can\n",
    "# move toward UP, DOWN, LEFT and RIGHT with given steps.\n",
    "# The trace of robot movement is shown as the following:\n",
    "# UP 5\n",
    "# DOWN 3\n",
    "# LEFT 3\n",
    "# RIGHT 2\n",
    "# Then, the output of the program should be:\n",
    "# 2\n",
    "# The numbers after the direction are steps.\n",
    "# Write a program to compute the distance between the current position after\n",
    "# a sequence of movement and original point. If the distance is a float, then\n",
    "# just print the nearest integer (use round() function for that and then convert\n",
    "# it into an integer).\n",
    "# Input Format:\n",
    "# The first line of the input contains a number n which implies the number of\n",
    "# directions to be given.\n",
    "# The next n lines contain the direction and the step separated by a space.\n",
    "# Output Format:\n",
    "# Print the distance from the original position to the current position.\n",
    "# Example:\n",
    "# Input:\n",
    "# 4\n",
    "# UP 5\n",
    "# DOWN 3\n",
    "# LEFT 3\n",
    "# RIGHT 2\n",
    "# Output:\n",
    "# 2"
   ]
  },
  {
   "cell_type": "code",
   "execution_count": 32,
   "metadata": {},
   "outputs": [
    {
     "name": "stdout",
     "output_type": "stream",
     "text": [
      "Enter the number of direction:4\n",
      "UP 5\n",
      "DOWN 3\n",
      "LEFT 3\n",
      "RIGHT 2\n",
      "2\n"
     ]
    }
   ],
   "source": [
    "pos = {\"x\":0,\"y\":0}\n",
    "num = int(input(\"Enter the number of direction:\"))\n",
    "for i in range(num):\n",
    "    command = input().split(\" \")\n",
    "    if command[0] == \"UP\":\n",
    "        pos[\"y\"] += int(command[1])\n",
    "    if command[0] == \"DOWN\":\n",
    "        pos[\"y\"] -= int(command[1])\n",
    "    if command[0] == \"LEFT\":\n",
    "        pos[\"x\"] -= int(command[1])\n",
    "    if command[0] == \"RIGHT\":\n",
    "        pos[\"x\"] += int(command[1])\n",
    "        \n",
    "print(int(round((pos[\"x\"]**2 + pos[\"y\"]**2)**0.5)))"
   ]
  },
  {
   "cell_type": "code",
   "execution_count": null,
   "metadata": {},
   "outputs": [],
   "source": []
  }
 ],
 "metadata": {
  "kernelspec": {
   "display_name": "Python 3",
   "language": "python",
   "name": "python3"
  },
  "language_info": {
   "codemirror_mode": {
    "name": "ipython",
    "version": 3
   },
   "file_extension": ".py",
   "mimetype": "text/x-python",
   "name": "python",
   "nbconvert_exporter": "python",
   "pygments_lexer": "ipython3",
   "version": "3.7.6"
  }
 },
 "nbformat": 4,
 "nbformat_minor": 4
}
